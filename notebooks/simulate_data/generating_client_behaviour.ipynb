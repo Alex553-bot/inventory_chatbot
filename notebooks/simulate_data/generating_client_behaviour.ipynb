{
 "cells": [
  {
   "cell_type": "markdown",
   "metadata": {
    "id": "7poInitUbvAa"
   },
   "source": [
    "## GENERATING CLIENT BEHAVIOUR"
   ]
  },
  {
   "cell_type": "markdown",
   "metadata": {
    "id": "7poInitUbvAa"
   },
   "source": [
    "The notebook's purpose is to generate the hyper-parameters for the simulation of generation of products, sales and soh "
   ]
  },
  {
   "cell_type": "code",
   "execution_count": 1,
   "metadata": {
    "id": "JhP5XaY1BEOe"
   },
   "outputs": [],
   "source": [
    "import pandas as pd\n",
    "import numpy as np\n",
    "import random\n",
    "\n",
    "import sys, os\n",
    "sys.path.append('../../libraries')\n",
    "\n",
    "import utils"
   ]
  },
  {
   "cell_type": "markdown",
   "metadata": {
    "id": "R4Td68JsBKGy"
   },
   "source": [
    "Creating the distribution of sales by season on each country in which the retail company have stores"
   ]
  },
  {
   "cell_type": "code",
   "execution_count": 2,
   "metadata": {
    "colab": {
     "base_uri": "https://localhost:8080/"
    },
    "id": "p_QXKeijbK6F",
    "outputId": "33c4104c-50dd-4ad3-f74b-b3cd8482939d"
   },
   "outputs": [
    {
     "name": "stdout",
     "output_type": "stream",
     "text": [
      "       country  consumption    category  season\n",
      "180        USA         0.32    Swimwear  Summer\n",
      "203     France         0.27  Activewear  Winter\n",
      "126      India         0.04     Dresses  Winter\n",
      "105  Australia         0.52     Bottoms  Summer\n",
      "140        USA         0.29     Dresses  Summer\n"
     ]
    }
   ],
   "source": [
    "sites = [\"USA\", \"Canada\", \"UK\", \"France\", \"Germany\", \"Australia\", \"India\", \"Japan\", \"Brazil\", \"Mexico\"]\n",
    "data = {\n",
    "    \"country\": sites,\n",
    "    \"Outerwear_Winter\": [31, 53, 41, 43, 50, 16, 7, 47, 6, 10],\n",
    "    \"Outerwear_Fall\": [27, 19, 27, 27, 22, 22, 9, 25, 11, 3],\n",
    "    \"Outerwear_Spring\": [18, 9, 21, 19, 16, 27, 31, 14, 32, 36],\n",
    "    \"Outerwear_Summer\": [24, 16, 14, 17, 13, 41, 52, 16, 54, 51],\n",
    "    \"Tops_Winter\": [16, 22, 17, 19, 15, 7, 5, 13, 11, 3],\n",
    "    \"Tops_Spring\": [24, 18, 24, 31, 21, 23, 39, 23, 36, 41],\n",
    "    \"Tops_Summer\": [35, 32, 37, 36, 30, 50, 41, 28, 47, 44],\n",
    "    \"Tops_Fall\": [24, 30, 26, 13, 34, 19, 16, 31, 14, 11],\n",
    "    \"Bottoms_Winter\": [20, 30, 26, 26, 23, 11, 9, 19, 3, 12],\n",
    "    \"Bottoms_Spring\": [26, 22, 19, 29, 21, 28, 30, 26, 30, 36],\n",
    "    \"Bottoms_Summer\": [36, 25, 34, 30, 30, 52, 41, 31, 49, 43],\n",
    "    \"Bottoms_Fall\": [21, 24, 21, 14, 24, 9, 21, 25, 13, 9],\n",
    "    \"Dresses_Winter\": [21, 10, 9, 15, 14, 6, 4, 9, 6, 5],\n",
    "    \"Dresses_Spring\": [24, 21, 22, 24, 19, 27, 21, 19, 23, 31],\n",
    "    \"Dresses_Summer\": [29, 24, 31, 31, 27, 46, 51, 29, 49, 45],\n",
    "    \"Dresses_Fall\": [29, 44, 39, 31, 39, 26, 26, 39, 19, 22],\n",
    "    \"Swimwear_Winter\": [12, 26, 11, 11, 19, 5, 59, 10, 59, 6],\n",
    "    \"Swimwear_Spring\": [6, 5, 6, 5, 6, 11, 9, 5, 5, 9],\n",
    "    \"Swimwear_Summer\": [32, 7, 29, 38, 11, 51, 61, 32, 61, 53],\n",
    "    \"Swimwear_Fall\": [6, 9, 6, 6, 6, 10, 5, 5, 6, 11],\n",
    "    \"Activewear_Winter\": [31, 32, 36, 27, 36, 21, 11, 26, 21, 17],\n",
    "    \"Activewear_Spring\": [21, 26, 16, 19, 25, 35, 31, 19, 29, 32],\n",
    "    \"Activewear_Summer\": [31, 17, 23, 29, 19, 36, 52, 31, 24, 34],\n",
    "    \"Activewear_Fall\": [19, 29, 27, 24, 21, 20, 11, 27, 14, 22],\n",
    "    \"Footwear_Winter\": [32, 39, 33, 30, 39, 12, 12, 38, 6, 9],\n",
    "    \"Footwear_Spring\": [14, 20, 9, 24, 26, 14, 30, 26, 23, 19],\n",
    "    \"Footwear_Summer\": [32, 31, 33, 36, 25, 58, 50, 24, 59, 62],\n",
    "    \"Footwear_Fall\": [14, 11, 14, 9, 11, 14, 9, 9, 20, 9],\n",
    "    \"Accessories_Winter\": [21, 33, 23, 26, 29, 8, 4, 24, 5, 6],\n",
    "    \"Accessories_Spring\": [30, 26, 27, 23, 23, 30, 46, 24, 41, 50],\n",
    "    \"Accessories_Summer\": [30, 23, 31, 28, 20, 40, 26, 24, 24, 50],\n",
    "    \"Accessories_Fall\": [19, 21, 22, 20, 25, 21, 7, 16, 14, 16]\n",
    "}\n",
    "\n",
    "distribution_by_category_raw = pd.DataFrame(data)\n",
    "\n",
    "distribution_by_cat = pd.melt(distribution_by_category_raw,\n",
    "                    id_vars=[\"country\"],\n",
    "                    var_name=\"category_season\",\n",
    "                    value_name=\"consumption\")\n",
    "\n",
    "distribution_by_cat[['category', 'season']] = (\n",
    "    distribution_by_cat['category_season']\n",
    "    .str\n",
    "    .split('_', expand=True)\n",
    ")\n",
    "\n",
    "distribution_by_cat = distribution_by_cat.drop(columns=[\"category_season\"])\n",
    "distribution_by_cat['consumption'] /= 100\n",
    "\n",
    "print(distribution_by_cat.sample(5))"
   ]
  },
  {
   "cell_type": "code",
   "execution_count": 3,
   "metadata": {
    "colab": {
     "base_uri": "https://localhost:8080/"
    },
    "id": "p_QXKeijbK6F",
    "outputId": "33c4104c-50dd-4ad3-f74b-b3cd8482939d"
   },
   "outputs": [
    {
     "name": "stdout",
     "output_type": "stream",
     "text": [
      "Data saved to: /mnt/sda2/ICC/pasantia/final-project/data/distribution_by_category.csv\n"
     ]
    }
   ],
   "source": [
    "utils.save_data(distribution_by_cat, 'distribution_by_category.csv', '../../data')"
   ]
  },
  {
   "cell_type": "markdown",
   "metadata": {
    "id": "eie3rB4dC_8K"
   },
   "source": [
    "Doing the same process for distribution of sales based on USA sales as a pivot"
   ]
  },
  {
   "cell_type": "code",
   "execution_count": 4,
   "metadata": {
    "colab": {
     "base_uri": "https://localhost:8080/"
    },
    "id": "e7EEnUOXDGz6",
    "outputId": "4fe059e6-5f49-4f95-ba51-94f0e2eead88"
   },
   "outputs": [
    {
     "name": "stdout",
     "output_type": "stream",
     "text": [
      "   country   Winter   Spring   Summer     Fall\n",
      "0      USA  2.10567  1.25862  0.96423  1.78158\n",
      "1   Canada  0.45832  1.43438  0.67021  2.15126\n",
      "2       UK  1.75351  0.82734  1.29788  1.01478\n",
      "3   France  0.85243  1.52887  0.31489  1.18286\n",
      "4  Germany  1.32199  0.91104  0.69951  1.35444\n"
     ]
    }
   ],
   "source": [
    "data = {\n",
    "    'country': sites,\n",
    "    'Winter': [210.567, 45.832, 175.351, 85.243, 132.199, 145.073, 59.743, 157.621, 131.206, 57.022],\n",
    "    'Spring': [125.862, 143.438, 82.734, 152.887, 91.104, 189.267, 132.647, 104.736, 63.021, 124.395],\n",
    "    'Summer': [96.423, 67.021, 129.788, 31.489, 69.951, 97.865, 133.947, 145.826, 184.672, 116.541],\n",
    "    'Fall': [178.158, 215.126, 101.478, 118.286, 135.444, 72.812, 88.971, 107.232, 61.744, 127.533]\n",
    "}\n",
    "\n",
    "distribution_of_sales = pd.DataFrame(data)\n",
    "for col in ['Spring', 'Fall', 'Summer', 'Winter']:\n",
    "  distribution_of_sales[col] /= 100\n",
    "\n",
    "print(distribution_of_sales.head(5))"
   ]
  },
  {
   "cell_type": "code",
   "execution_count": 5,
   "metadata": {
    "id": "GR1AyxeNjBgG"
   },
   "outputs": [
    {
     "name": "stdout",
     "output_type": "stream",
     "text": [
      "Data saved to: /mnt/sda2/ICC/pasantia/final-project/data/distribution_of_sales_by_country.csv\n"
     ]
    }
   ],
   "source": [
    "utils.save_data(distribution_of_sales, 'distribution_of_sales_by_country.csv', '../../data')"
   ]
  }
 ],
 "metadata": {
  "colab": {
   "collapsed_sections": [
    "7poInitUbvAa"
   ],
   "provenance": []
  },
  "kernelspec": {
   "display_name": "Python 3 (ipykernel)",
   "language": "python",
   "name": "python3"
  },
  "language_info": {
   "codemirror_mode": {
    "name": "ipython",
    "version": 3
   },
   "file_extension": ".py",
   "mimetype": "text/x-python",
   "name": "python",
   "nbconvert_exporter": "python",
   "pygments_lexer": "ipython3",
   "version": "3.12.3"
  }
 },
 "nbformat": 4,
 "nbformat_minor": 4
}
