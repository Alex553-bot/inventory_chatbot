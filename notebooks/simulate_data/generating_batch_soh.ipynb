{
 "cells": [
  {
   "cell_type": "markdown",
   "metadata": {
    "id": "7poInitUbvAa"
   },
   "source": [
    "## GENERATING SOH SYNTHETIC DATA"
   ]
  },
  {
   "cell_type": "markdown",
   "metadata": {
    "id": "7poInitUbvAa"
   },
   "source": [
    "The notebook's purpose is to generate synthetic data from a fake retail company focused on the field of clothing, in this notebook you will find a simple simulation from this company in the international {mercado} about 2 years\n",
    "\n",
    "It's necessary to run this code before generating sales because this generates the initial state of all stores"
   ]
  },
  {
   "cell_type": "code",
   "execution_count": 1,
   "metadata": {
    "colab": {
     "base_uri": "https://localhost:8080/"
    },
    "id": "14ErrTiAy-75",
    "outputId": "8da657c4-1472-4bb1-d75a-bad11b5809d6"
   },
   "outputs": [
    {
     "name": "stdout",
     "output_type": "stream",
     "text": [
      "Defaulting to user installation because normal site-packages is not writeable\n",
      "Requirement already satisfied: faker in /home/alex/.local/lib/python3.12/site-packages (37.0.2)\n",
      "Requirement already satisfied: tzdata in /home/alex/.local/lib/python3.12/site-packages (from faker) (2024.2)\n"
     ]
    }
   ],
   "source": [
    "!pip install faker --break-system-packages"
   ]
  },
  {
   "cell_type": "code",
   "execution_count": 2,
   "metadata": {
    "id": "JhP5XaY1BEOe"
   },
   "outputs": [],
   "source": [
    "import pandas as pd\n",
    "import numpy as np\n",
    "import random\n",
    "import datetime\n",
    "from datetime import datetime, timedelta\n",
    "from faker import Faker\n",
    "import seaborn as sns\n",
    "import csv\n",
    "import os\n",
    "import sys\n",
    "sys.path.append('../../libraries')\n",
    "import utils"
   ]
  },
  {
   "cell_type": "markdown",
   "metadata": {
    "id": "R4Td68JsBKGy"
   },
   "source": [
    "creating the distribution of sales by season on each country in which the retail company have stores"
   ]
  },
  {
   "cell_type": "code",
   "execution_count": 3,
   "metadata": {
    "colab": {
     "base_uri": "https://localhost:8080/"
    },
    "id": "p_QXKeijbK6F",
    "outputId": "33c4104c-50dd-4ad3-f74b-b3cd8482939d"
   },
   "outputs": [
    {
     "data": {
      "text/html": [
       "<div>\n",
       "<style scoped>\n",
       "    .dataframe tbody tr th:only-of-type {\n",
       "        vertical-align: middle;\n",
       "    }\n",
       "\n",
       "    .dataframe tbody tr th {\n",
       "        vertical-align: top;\n",
       "    }\n",
       "\n",
       "    .dataframe thead th {\n",
       "        text-align: right;\n",
       "    }\n",
       "</style>\n",
       "<table border=\"1\" class=\"dataframe\">\n",
       "  <thead>\n",
       "    <tr style=\"text-align: right;\">\n",
       "      <th></th>\n",
       "      <th>country</th>\n",
       "      <th>consumption</th>\n",
       "      <th>category</th>\n",
       "      <th>season</th>\n",
       "    </tr>\n",
       "  </thead>\n",
       "  <tbody>\n",
       "    <tr>\n",
       "      <th>19</th>\n",
       "      <td>Mexico</td>\n",
       "      <td>0.03</td>\n",
       "      <td>Outerwear</td>\n",
       "      <td>Fall</td>\n",
       "    </tr>\n",
       "    <tr>\n",
       "      <th>40</th>\n",
       "      <td>USA</td>\n",
       "      <td>0.16</td>\n",
       "      <td>Tops</td>\n",
       "      <td>Winter</td>\n",
       "    </tr>\n",
       "    <tr>\n",
       "      <th>83</th>\n",
       "      <td>France</td>\n",
       "      <td>0.26</td>\n",
       "      <td>Bottoms</td>\n",
       "      <td>Winter</td>\n",
       "    </tr>\n",
       "    <tr>\n",
       "      <th>282</th>\n",
       "      <td>UK</td>\n",
       "      <td>0.23</td>\n",
       "      <td>Accessories</td>\n",
       "      <td>Winter</td>\n",
       "    </tr>\n",
       "    <tr>\n",
       "      <th>28</th>\n",
       "      <td>Brazil</td>\n",
       "      <td>0.32</td>\n",
       "      <td>Outerwear</td>\n",
       "      <td>Spring</td>\n",
       "    </tr>\n",
       "  </tbody>\n",
       "</table>\n",
       "</div>"
      ],
      "text/plain": [
       "    country  consumption     category  season\n",
       "19   Mexico         0.03    Outerwear    Fall\n",
       "40      USA         0.16         Tops  Winter\n",
       "83   France         0.26      Bottoms  Winter\n",
       "282      UK         0.23  Accessories  Winter\n",
       "28   Brazil         0.32    Outerwear  Spring"
      ]
     },
     "execution_count": 3,
     "metadata": {},
     "output_type": "execute_result"
    }
   ],
   "source": [
    "distribution_by_cat = utils.load_data('distribution_by_category.csv', '../../data')\n",
    "sites = distribution_by_cat.country.unique()\n",
    "distribution_by_cat.sample(5)"
   ]
  },
  {
   "cell_type": "markdown",
   "metadata": {
    "id": "eie3rB4dC_8K"
   },
   "source": [
    "doing the same process for distribution of sales based on USA sales"
   ]
  },
  {
   "cell_type": "code",
   "execution_count": 4,
   "metadata": {
    "colab": {
     "base_uri": "https://localhost:8080/"
    },
    "id": "e7EEnUOXDGz6",
    "outputId": "4fe059e6-5f49-4f95-ba51-94f0e2eead88"
   },
   "outputs": [
    {
     "data": {
      "text/html": [
       "<div>\n",
       "<style scoped>\n",
       "    .dataframe tbody tr th:only-of-type {\n",
       "        vertical-align: middle;\n",
       "    }\n",
       "\n",
       "    .dataframe tbody tr th {\n",
       "        vertical-align: top;\n",
       "    }\n",
       "\n",
       "    .dataframe thead th {\n",
       "        text-align: right;\n",
       "    }\n",
       "</style>\n",
       "<table border=\"1\" class=\"dataframe\">\n",
       "  <thead>\n",
       "    <tr style=\"text-align: right;\">\n",
       "      <th></th>\n",
       "      <th>country</th>\n",
       "      <th>Winter</th>\n",
       "      <th>Spring</th>\n",
       "      <th>Summer</th>\n",
       "      <th>Fall</th>\n",
       "    </tr>\n",
       "  </thead>\n",
       "  <tbody>\n",
       "    <tr>\n",
       "      <th>5</th>\n",
       "      <td>Australia</td>\n",
       "      <td>1.45073</td>\n",
       "      <td>1.89267</td>\n",
       "      <td>0.97865</td>\n",
       "      <td>0.72812</td>\n",
       "    </tr>\n",
       "    <tr>\n",
       "      <th>2</th>\n",
       "      <td>UK</td>\n",
       "      <td>1.75351</td>\n",
       "      <td>0.82734</td>\n",
       "      <td>1.29788</td>\n",
       "      <td>1.01478</td>\n",
       "    </tr>\n",
       "    <tr>\n",
       "      <th>4</th>\n",
       "      <td>Germany</td>\n",
       "      <td>1.32199</td>\n",
       "      <td>0.91104</td>\n",
       "      <td>0.69951</td>\n",
       "      <td>1.35444</td>\n",
       "    </tr>\n",
       "    <tr>\n",
       "      <th>9</th>\n",
       "      <td>Mexico</td>\n",
       "      <td>0.57022</td>\n",
       "      <td>1.24395</td>\n",
       "      <td>1.16541</td>\n",
       "      <td>1.27533</td>\n",
       "    </tr>\n",
       "    <tr>\n",
       "      <th>3</th>\n",
       "      <td>France</td>\n",
       "      <td>0.85243</td>\n",
       "      <td>1.52887</td>\n",
       "      <td>0.31489</td>\n",
       "      <td>1.18286</td>\n",
       "    </tr>\n",
       "  </tbody>\n",
       "</table>\n",
       "</div>"
      ],
      "text/plain": [
       "     country   Winter   Spring   Summer     Fall\n",
       "5  Australia  1.45073  1.89267  0.97865  0.72812\n",
       "2         UK  1.75351  0.82734  1.29788  1.01478\n",
       "4    Germany  1.32199  0.91104  0.69951  1.35444\n",
       "9     Mexico  0.57022  1.24395  1.16541  1.27533\n",
       "3     France  0.85243  1.52887  0.31489  1.18286"
      ]
     },
     "execution_count": 4,
     "metadata": {},
     "output_type": "execute_result"
    }
   ],
   "source": [
    "distribution_of_sales = utils.load_data('distribution_of_sales_by_country.csv', '../../data')\n",
    "distribution_of_sales.sample(5)"
   ]
  },
  {
   "cell_type": "markdown",
   "metadata": {
    "id": "FUeHnwa1FJK3"
   },
   "source": [
    "### Definition of records\n",
    "Defining the structure for the records to add them to a csv file \n",
    "\n",
    "- `soh`\n",
    "  - sku\n",
    "  - quantity\n",
    "  - date\n",
    "  - site_code"
   ]
  },
  {
   "cell_type": "markdown",
   "metadata": {
    "id": "vMZaM7i10fea"
   },
   "source": [
    "#### Generating initial inventory"
   ]
  },
  {
   "cell_type": "code",
   "execution_count": 5,
   "metadata": {
    "id": "9UrC7uY60i6A"
   },
   "outputs": [],
   "source": [
    "site_stores = np.array(\n",
    "    [[country[:3].upper()+f'{i:03}' for i in range(5)] for country in sites]\n",
    ").flatten()\n",
    "\n",
    "fake = Faker()\n",
    "\n",
    "def assign_products_to_stores(weight_df, products_df, stores, min_products=150, max_products=300):\n",
    "    \"\"\"\n",
    "    Assigns products to stores with initial stock, considering weights and other factors.\n",
    "\n",
    "    Params: \n",
    "    weight_df (pandas.DataFrame): probability of store products in a specific site_store\n",
    "    product_df (pandas.DataFrame): offered products\n",
    "    stores (list): list of active stores\n",
    "    min_products (int): minimum quantity of products to store\n",
    "    max_products (int): maximum quantity of products to store\n",
    "    \"\"\"\n",
    "\n",
    "    assignments = []\n",
    "    for store in stores:\n",
    "        country_code = store[:3].upper()\n",
    "        if country_code[-1] == '0': country_code = country_code[:2]\n",
    "\n",
    "        country = weight_df[weight_df.country.str.upper().str.startswith(country_code)]['country'].iloc[0]\n",
    "        num_products = random.randint(min_products, max_products)\n",
    "        num_available_products = len(products_df)  # Get the number of available products\n",
    "\n",
    "        # Adjust num_products if it's greater than available products\n",
    "        num_products = min(num_products, num_available_products)\n",
    "\n",
    "        assigned_products = random.sample(products_df.index.tolist(), num_products)\n",
    "\n",
    "        for product_index in assigned_products:\n",
    "            product = products_df.loc[product_index]\n",
    "            category = product['label'].split()[-1]\n",
    "            season = random.choice(['Winter', 'Spring', 'Summer', 'Fall'])\n",
    "            weight = weight_df[\n",
    "                (weight_df['country'] == country) & \n",
    "                (weight_df['category'] == category) & \n",
    "                (weight_df['season'] == season)]['consumption'].values[0] if not weight_df[(weight_df['country'] == country) & (weight_df['category'] == category) & (weight_df['season'] == season)].empty else 0.1\n",
    "            initial_stock = random.randint(min_products, max_products)\n",
    "\n",
    "            start_date = datetime.now() - timedelta(days=365 * 4)\n",
    "            end_date = datetime.now() - timedelta(days=365 * 3)\n",
    "            initial_date = fake.date_between_dates(date_start=start_date, date_end=end_date)\n",
    "\n",
    "            assignments.append({\n",
    "                'site_code': store,\n",
    "                'sku': product['productCode'],\n",
    "                'quantity': initial_stock,\n",
    "                'date': initial_date\n",
    "            })\n",
    "\n",
    "    return pd.DataFrame(assignments)\n"
   ]
  },
  {
   "cell_type": "code",
   "execution_count": 6,
   "metadata": {
    "colab": {
     "base_uri": "https://localhost:8080/",
     "height": 206
    },
    "id": "2vZCvfe7p5eB",
    "outputId": "adb3e8df-ab1b-433e-aca8-af615f688206"
   },
   "outputs": [
    {
     "data": {
      "text/html": [
       "<div>\n",
       "<style scoped>\n",
       "    .dataframe tbody tr th:only-of-type {\n",
       "        vertical-align: middle;\n",
       "    }\n",
       "\n",
       "    .dataframe tbody tr th {\n",
       "        vertical-align: top;\n",
       "    }\n",
       "\n",
       "    .dataframe thead th {\n",
       "        text-align: right;\n",
       "    }\n",
       "</style>\n",
       "<table border=\"1\" class=\"dataframe\">\n",
       "  <thead>\n",
       "    <tr style=\"text-align: right;\">\n",
       "      <th></th>\n",
       "      <th>site_code</th>\n",
       "      <th>sku</th>\n",
       "      <th>quantity</th>\n",
       "      <th>date</th>\n",
       "    </tr>\n",
       "  </thead>\n",
       "  <tbody>\n",
       "    <tr>\n",
       "      <th>6424</th>\n",
       "      <td>AUS001</td>\n",
       "      <td>DRESS-079</td>\n",
       "      <td>298</td>\n",
       "      <td>2021-07-31</td>\n",
       "    </tr>\n",
       "    <tr>\n",
       "      <th>9281</th>\n",
       "      <td>JAP003</td>\n",
       "      <td>SUIT-071</td>\n",
       "      <td>163</td>\n",
       "      <td>2021-07-31</td>\n",
       "    </tr>\n",
       "    <tr>\n",
       "      <th>11615</th>\n",
       "      <td>MEX003</td>\n",
       "      <td>TRACK-056</td>\n",
       "      <td>240</td>\n",
       "      <td>2021-05-07</td>\n",
       "    </tr>\n",
       "    <tr>\n",
       "      <th>2702</th>\n",
       "      <td>UK001</td>\n",
       "      <td>SHIRT-009</td>\n",
       "      <td>186</td>\n",
       "      <td>2021-07-13</td>\n",
       "    </tr>\n",
       "    <tr>\n",
       "      <th>7750</th>\n",
       "      <td>IND001</td>\n",
       "      <td>CAPRI-026</td>\n",
       "      <td>194</td>\n",
       "      <td>2021-07-08</td>\n",
       "    </tr>\n",
       "  </tbody>\n",
       "</table>\n",
       "</div>"
      ],
      "text/plain": [
       "      site_code        sku  quantity        date\n",
       "6424     AUS001  DRESS-079       298  2021-07-31\n",
       "9281     JAP003   SUIT-071       163  2021-07-31\n",
       "11615    MEX003  TRACK-056       240  2021-05-07\n",
       "2702      UK001  SHIRT-009       186  2021-07-13\n",
       "7750     IND001  CAPRI-026       194  2021-07-08"
      ]
     },
     "execution_count": 6,
     "metadata": {},
     "output_type": "execute_result"
    }
   ],
   "source": [
    "products = utils.load_data('products.csv', '../../data')\n",
    "soh = assign_products_to_stores(\n",
    "    distribution_by_cat,\n",
    "    products,\n",
    "    site_stores\n",
    ")\n",
    "soh.sample(5)"
   ]
  },
  {
   "cell_type": "code",
   "execution_count": 7,
   "metadata": {
    "id": "us-TEEylzeKF"
   },
   "outputs": [
    {
     "name": "stdout",
     "output_type": "stream",
     "text": [
      "Data saved to: /mnt/sda2/ICC/pasantia/final-project/data/soh.csv\n"
     ]
    }
   ],
   "source": [
    "utils.save_data(soh, 'soh.csv', '../../data')"
   ]
  }
 ],
 "metadata": {
  "colab": {
   "collapsed_sections": [
    "7poInitUbvAa"
   ],
   "provenance": []
  },
  "kernelspec": {
   "display_name": "Python 3 (ipykernel)",
   "language": "python",
   "name": "python3"
  },
  "language_info": {
   "codemirror_mode": {
    "name": "ipython",
    "version": 3
   },
   "file_extension": ".py",
   "mimetype": "text/x-python",
   "name": "python",
   "nbconvert_exporter": "python",
   "pygments_lexer": "ipython3",
   "version": "3.12.3"
  }
 },
 "nbformat": 4,
 "nbformat_minor": 4
}
