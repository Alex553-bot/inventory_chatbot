{
 "cells": [
  {
   "cell_type": "markdown",
   "metadata": {
    "id": "7poInitUbvAa"
   },
   "source": [
    "## GENERATING PRODUCTS SYNTHETIC DATA"
   ]
  },
  {
   "cell_type": "markdown",
   "metadata": {
    "id": "7poInitUbvAa"
   },
   "source": [
    "The notebook's purpose is to generate synthetic data from a fake retail company focused on the field of clothing, in this notebook you will find a simple simulation from this company in the international {mercado} about 2 years"
   ]
  },
  {
   "cell_type": "code",
   "execution_count": 1,
   "metadata": {
    "colab": {
     "base_uri": "https://localhost:8080/"
    },
    "id": "14ErrTiAy-75",
    "outputId": "8da657c4-1472-4bb1-d75a-bad11b5809d6"
   },
   "outputs": [
    {
     "name": "stdout",
     "output_type": "stream",
     "text": [
      "Defaulting to user installation because normal site-packages is not writeable\n",
      "Requirement already satisfied: langchain-google-genai==2.0.9 in /home/alex/.local/lib/python3.12/site-packages (2.0.9)\n",
      "Requirement already satisfied: filetype<2.0.0,>=1.2.0 in /home/alex/.local/lib/python3.12/site-packages (from langchain-google-genai==2.0.9) (1.2.0)\n",
      "Requirement already satisfied: google-generativeai<0.9.0,>=0.8.0 in /home/alex/.local/lib/python3.12/site-packages (from langchain-google-genai==2.0.9) (0.8.4)\n",
      "Requirement already satisfied: langchain-core<0.4.0,>=0.3.27 in /home/alex/.local/lib/python3.12/site-packages (from langchain-google-genai==2.0.9) (0.3.49)\n",
      "Requirement already satisfied: pydantic<3,>=2 in /home/alex/.local/lib/python3.12/site-packages (from langchain-google-genai==2.0.9) (2.11.0)\n",
      "Requirement already satisfied: google-ai-generativelanguage==0.6.15 in /home/alex/.local/lib/python3.12/site-packages (from google-generativeai<0.9.0,>=0.8.0->langchain-google-genai==2.0.9) (0.6.15)\n",
      "Requirement already satisfied: google-api-core in /home/alex/.local/lib/python3.12/site-packages (from google-generativeai<0.9.0,>=0.8.0->langchain-google-genai==2.0.9) (2.24.2)\n",
      "Requirement already satisfied: google-api-python-client in /home/alex/.local/lib/python3.12/site-packages (from google-generativeai<0.9.0,>=0.8.0->langchain-google-genai==2.0.9) (2.166.0)\n",
      "Requirement already satisfied: google-auth>=2.15.0 in /home/alex/.local/lib/python3.12/site-packages (from google-generativeai<0.9.0,>=0.8.0->langchain-google-genai==2.0.9) (2.38.0)\n",
      "Requirement already satisfied: protobuf in /home/alex/.local/lib/python3.12/site-packages (from google-generativeai<0.9.0,>=0.8.0->langchain-google-genai==2.0.9) (5.29.3)\n",
      "Requirement already satisfied: tqdm in /home/alex/.local/lib/python3.12/site-packages (from google-generativeai<0.9.0,>=0.8.0->langchain-google-genai==2.0.9) (4.67.1)\n",
      "Requirement already satisfied: typing-extensions in /home/alex/.local/lib/python3.12/site-packages (from google-generativeai<0.9.0,>=0.8.0->langchain-google-genai==2.0.9) (4.12.2)\n",
      "Requirement already satisfied: proto-plus<2.0.0dev,>=1.22.3 in /home/alex/.local/lib/python3.12/site-packages (from google-ai-generativelanguage==0.6.15->google-generativeai<0.9.0,>=0.8.0->langchain-google-genai==2.0.9) (1.26.1)\n",
      "Requirement already satisfied: langsmith<0.4,>=0.1.125 in /home/alex/.local/lib/python3.12/site-packages (from langchain-core<0.4.0,>=0.3.27->langchain-google-genai==2.0.9) (0.3.19)\n",
      "Requirement already satisfied: tenacity!=8.4.0,<10.0.0,>=8.1.0 in /home/alex/.local/lib/python3.12/site-packages (from langchain-core<0.4.0,>=0.3.27->langchain-google-genai==2.0.9) (9.0.0)\n",
      "Requirement already satisfied: jsonpatch<2.0,>=1.33 in /home/alex/.local/lib/python3.12/site-packages (from langchain-core<0.4.0,>=0.3.27->langchain-google-genai==2.0.9) (1.33)\n",
      "Requirement already satisfied: PyYAML>=5.3 in /usr/lib/python3/dist-packages (from langchain-core<0.4.0,>=0.3.27->langchain-google-genai==2.0.9) (6.0.1)\n",
      "Requirement already satisfied: packaging<25,>=23.2 in /usr/lib/python3/dist-packages (from langchain-core<0.4.0,>=0.3.27->langchain-google-genai==2.0.9) (24.0)\n",
      "Requirement already satisfied: annotated-types>=0.6.0 in /home/alex/.local/lib/python3.12/site-packages (from pydantic<3,>=2->langchain-google-genai==2.0.9) (0.7.0)\n",
      "Requirement already satisfied: pydantic-core==2.33.0 in /home/alex/.local/lib/python3.12/site-packages (from pydantic<3,>=2->langchain-google-genai==2.0.9) (2.33.0)\n",
      "Requirement already satisfied: typing-inspection>=0.4.0 in /home/alex/.local/lib/python3.12/site-packages (from pydantic<3,>=2->langchain-google-genai==2.0.9) (0.4.0)\n",
      "Requirement already satisfied: googleapis-common-protos<2.0.0,>=1.56.2 in /home/alex/.local/lib/python3.12/site-packages (from google-api-core->google-generativeai<0.9.0,>=0.8.0->langchain-google-genai==2.0.9) (1.69.2)\n",
      "Requirement already satisfied: requests<3.0.0,>=2.18.0 in /usr/lib/python3/dist-packages (from google-api-core->google-generativeai<0.9.0,>=0.8.0->langchain-google-genai==2.0.9) (2.31.0)\n",
      "Requirement already satisfied: cachetools<6.0,>=2.0.0 in /home/alex/.local/lib/python3.12/site-packages (from google-auth>=2.15.0->google-generativeai<0.9.0,>=0.8.0->langchain-google-genai==2.0.9) (5.5.1)\n",
      "Requirement already satisfied: pyasn1-modules>=0.2.1 in /home/alex/.local/lib/python3.12/site-packages (from google-auth>=2.15.0->google-generativeai<0.9.0,>=0.8.0->langchain-google-genai==2.0.9) (0.4.2)\n",
      "Requirement already satisfied: rsa<5,>=3.1.4 in /home/alex/.local/lib/python3.12/site-packages (from google-auth>=2.15.0->google-generativeai<0.9.0,>=0.8.0->langchain-google-genai==2.0.9) (4.9)\n",
      "Requirement already satisfied: jsonpointer>=1.9 in /usr/lib/python3/dist-packages (from jsonpatch<2.0,>=1.33->langchain-core<0.4.0,>=0.3.27->langchain-google-genai==2.0.9) (2.0)\n",
      "Requirement already satisfied: httpx<1,>=0.23.0 in /home/alex/.local/lib/python3.12/site-packages (from langsmith<0.4,>=0.1.125->langchain-core<0.4.0,>=0.3.27->langchain-google-genai==2.0.9) (0.28.1)\n",
      "Requirement already satisfied: orjson<4.0.0,>=3.9.14 in /home/alex/.local/lib/python3.12/site-packages (from langsmith<0.4,>=0.1.125->langchain-core<0.4.0,>=0.3.27->langchain-google-genai==2.0.9) (3.10.16)\n",
      "Requirement already satisfied: requests-toolbelt<2.0.0,>=1.0.0 in /home/alex/.local/lib/python3.12/site-packages (from langsmith<0.4,>=0.1.125->langchain-core<0.4.0,>=0.3.27->langchain-google-genai==2.0.9) (1.0.0)\n",
      "Requirement already satisfied: zstandard<0.24.0,>=0.23.0 in /home/alex/.local/lib/python3.12/site-packages (from langsmith<0.4,>=0.1.125->langchain-core<0.4.0,>=0.3.27->langchain-google-genai==2.0.9) (0.23.0)\n",
      "Requirement already satisfied: httplib2<1.0.0,>=0.19.0 in /usr/lib/python3/dist-packages (from google-api-python-client->google-generativeai<0.9.0,>=0.8.0->langchain-google-genai==2.0.9) (0.20.4)\n",
      "Requirement already satisfied: google-auth-httplib2<1.0.0,>=0.2.0 in /home/alex/.local/lib/python3.12/site-packages (from google-api-python-client->google-generativeai<0.9.0,>=0.8.0->langchain-google-genai==2.0.9) (0.2.0)\n",
      "Requirement already satisfied: uritemplate<5,>=3.0.1 in /home/alex/.local/lib/python3.12/site-packages (from google-api-python-client->google-generativeai<0.9.0,>=0.8.0->langchain-google-genai==2.0.9) (4.1.1)\n",
      "Requirement already satisfied: grpcio<2.0dev,>=1.33.2 in /home/alex/.local/lib/python3.12/site-packages (from google-api-core[grpc]!=2.0.*,!=2.1.*,!=2.10.*,!=2.2.*,!=2.3.*,!=2.4.*,!=2.5.*,!=2.6.*,!=2.7.*,!=2.8.*,!=2.9.*,<3.0.0dev,>=1.34.1->google-ai-generativelanguage==0.6.15->google-generativeai<0.9.0,>=0.8.0->langchain-google-genai==2.0.9) (1.71.0)\n",
      "Requirement already satisfied: grpcio-status<2.0.dev0,>=1.33.2 in /home/alex/.local/lib/python3.12/site-packages (from google-api-core[grpc]!=2.0.*,!=2.1.*,!=2.10.*,!=2.2.*,!=2.3.*,!=2.4.*,!=2.5.*,!=2.6.*,!=2.7.*,!=2.8.*,!=2.9.*,<3.0.0dev,>=1.34.1->google-ai-generativelanguage==0.6.15->google-generativeai<0.9.0,>=0.8.0->langchain-google-genai==2.0.9) (1.71.0)\n",
      "Requirement already satisfied: pyparsing!=3.0.0,!=3.0.1,!=3.0.2,!=3.0.3,<4,>=2.4.2 in /usr/lib/python3/dist-packages (from httplib2<1.0.0,>=0.19.0->google-api-python-client->google-generativeai<0.9.0,>=0.8.0->langchain-google-genai==2.0.9) (3.1.1)\n",
      "Requirement already satisfied: anyio in /home/alex/.local/lib/python3.12/site-packages (from httpx<1,>=0.23.0->langsmith<0.4,>=0.1.125->langchain-core<0.4.0,>=0.3.27->langchain-google-genai==2.0.9) (4.8.0)\n",
      "Requirement already satisfied: certifi in /usr/lib/python3/dist-packages (from httpx<1,>=0.23.0->langsmith<0.4,>=0.1.125->langchain-core<0.4.0,>=0.3.27->langchain-google-genai==2.0.9) (2023.11.17)\n",
      "Requirement already satisfied: httpcore==1.* in /home/alex/.local/lib/python3.12/site-packages (from httpx<1,>=0.23.0->langsmith<0.4,>=0.1.125->langchain-core<0.4.0,>=0.3.27->langchain-google-genai==2.0.9) (1.0.7)\n",
      "Requirement already satisfied: idna in /usr/lib/python3/dist-packages (from httpx<1,>=0.23.0->langsmith<0.4,>=0.1.125->langchain-core<0.4.0,>=0.3.27->langchain-google-genai==2.0.9) (3.6)\n",
      "Requirement already satisfied: h11<0.15,>=0.13 in /home/alex/.local/lib/python3.12/site-packages (from httpcore==1.*->httpx<1,>=0.23.0->langsmith<0.4,>=0.1.125->langchain-core<0.4.0,>=0.3.27->langchain-google-genai==2.0.9) (0.14.0)\n",
      "Requirement already satisfied: pyasn1<0.7.0,>=0.6.1 in /home/alex/.local/lib/python3.12/site-packages (from pyasn1-modules>=0.2.1->google-auth>=2.15.0->google-generativeai<0.9.0,>=0.8.0->langchain-google-genai==2.0.9) (0.6.1)\n",
      "Requirement already satisfied: sniffio>=1.1 in /home/alex/.local/lib/python3.12/site-packages (from anyio->httpx<1,>=0.23.0->langsmith<0.4,>=0.1.125->langchain-core<0.4.0,>=0.3.27->langchain-google-genai==2.0.9) (1.3.1)\n"
     ]
    }
   ],
   "source": [
    "!pip install langchain-google-genai==2.0.9 --break-system-packages"
   ]
  },
  {
   "cell_type": "code",
   "execution_count": 2,
   "metadata": {
    "id": "JhP5XaY1BEOe"
   },
   "outputs": [
    {
     "data": {
      "text/plain": [
       "True"
      ]
     },
     "execution_count": 2,
     "metadata": {},
     "output_type": "execute_result"
    }
   ],
   "source": [
    "import pandas as pd\n",
    "import numpy as np\n",
    "import random\n",
    "import sys\n",
    "\n",
    "sys.path.append('../../libraries')\n",
    "\n",
    "import utils\n",
    "from dotenv import load_dotenv\n",
    "load_dotenv()"
   ]
  },
  {
   "cell_type": "markdown",
   "metadata": {
    "id": "R4Td68JsBKGy"
   },
   "source": [
    "Getting the distribution of sales by season on each country in which the retail company have stores"
   ]
  },
  {
   "cell_type": "code",
   "execution_count": 3,
   "metadata": {
    "colab": {
     "base_uri": "https://localhost:8080/"
    },
    "id": "p_QXKeijbK6F",
    "outputId": "33c4104c-50dd-4ad3-f74b-b3cd8482939d"
   },
   "outputs": [
    {
     "ename": "FileNotFoundError",
     "evalue": "File not found: /mnt/sda2/ICC/pasantia/final-project/data/distribution_by_category.csv",
     "output_type": "error",
     "traceback": [
      "\u001b[0;31m---------------------------------------------------------------------------\u001b[0m",
      "\u001b[0;31mFileNotFoundError\u001b[0m                         Traceback (most recent call last)",
      "Cell \u001b[0;32mIn[3], line 1\u001b[0m\n\u001b[0;32m----> 1\u001b[0m distribution_by_cat \u001b[38;5;241m=\u001b[39m \u001b[43mutils\u001b[49m\u001b[38;5;241;43m.\u001b[39;49m\u001b[43mload_data\u001b[49m\u001b[43m(\u001b[49m\u001b[38;5;124;43m'\u001b[39;49m\u001b[38;5;124;43mdistribution_by_category.csv\u001b[39;49m\u001b[38;5;124;43m'\u001b[39;49m\u001b[43m,\u001b[49m\u001b[43m \u001b[49m\u001b[38;5;124;43m'\u001b[39;49m\u001b[38;5;124;43m../../data\u001b[39;49m\u001b[38;5;124;43m'\u001b[39;49m\u001b[43m)\u001b[49m\n\u001b[1;32m      2\u001b[0m sites \u001b[38;5;241m=\u001b[39m distribution_by_cat\u001b[38;5;241m.\u001b[39mcountry\u001b[38;5;241m.\u001b[39munique()\n\u001b[1;32m      3\u001b[0m distribution_by_cat\u001b[38;5;241m.\u001b[39msample(\u001b[38;5;241m5\u001b[39m)\n",
      "File \u001b[0;32m/mnt/sda2/ICC/pasantia/final-project/notebooks/simulate_data/../../libraries/utils.py:13\u001b[0m, in \u001b[0;36mload_data\u001b[0;34m(file_name, folder)\u001b[0m\n\u001b[1;32m     11\u001b[0m file_path \u001b[38;5;241m=\u001b[39m build_path(file_name, folder)\n\u001b[1;32m     12\u001b[0m \u001b[38;5;28;01mif\u001b[39;00m \u001b[38;5;129;01mnot\u001b[39;00m os\u001b[38;5;241m.\u001b[39mpath\u001b[38;5;241m.\u001b[39mexists(file_path):\n\u001b[0;32m---> 13\u001b[0m     \u001b[38;5;28;01mraise\u001b[39;00m \u001b[38;5;167;01mFileNotFoundError\u001b[39;00m(\u001b[38;5;124mf\u001b[39m\u001b[38;5;124m\"\u001b[39m\u001b[38;5;124mFile not found: \u001b[39m\u001b[38;5;132;01m{\u001b[39;00mfile_path\u001b[38;5;132;01m}\u001b[39;00m\u001b[38;5;124m\"\u001b[39m)\n\u001b[1;32m     14\u001b[0m \u001b[38;5;28;01mreturn\u001b[39;00m pd\u001b[38;5;241m.\u001b[39mread_csv(file_path)\n",
      "\u001b[0;31mFileNotFoundError\u001b[0m: File not found: /mnt/sda2/ICC/pasantia/final-project/data/distribution_by_category.csv"
     ]
    }
   ],
   "source": [
    "distribution_by_cat = utils.load_data('distribution_by_category.csv', '../../data')\n",
    "sites = distribution_by_cat.country.unique()\n",
    "distribution_by_cat.sample(5)"
   ]
  },
  {
   "cell_type": "markdown",
   "metadata": {
    "id": "eie3rB4dC_8K"
   },
   "source": [
    "Doing the same process for distribution of sales based on USA sales"
   ]
  },
  {
   "cell_type": "code",
   "execution_count": null,
   "metadata": {
    "colab": {
     "base_uri": "https://localhost:8080/"
    },
    "id": "e7EEnUOXDGz6",
    "outputId": "4fe059e6-5f49-4f95-ba51-94f0e2eead88"
   },
   "outputs": [],
   "source": [
    "distribution_of_sales = utils.load_data('distribution_of_sales_by_country.csv', '../../data')\n",
    "distribution_of_sales.sample(5)"
   ]
  },
  {
   "cell_type": "markdown",
   "metadata": {
    "id": "FUeHnwa1FJK3"
   },
   "source": [
    "### Definition of records\n",
    "Defining the structure for the records to add them to a csv file\n",
    "\n",
    "- `product`\n",
    "  - gtin\n",
    "  - productCode\n",
    "  - label\n",
    "  - size\n",
    "  - color\n",
    "  - category"
   ]
  },
  {
   "cell_type": "code",
   "execution_count": null,
   "metadata": {
    "id": "FGODwPBXE2fD"
   },
   "outputs": [],
   "source": [
    "from langchain_google_genai import GoogleGenerativeAI\n",
    "import os\n",
    "import time\n",
    "os.environ[\"GOOGLE_API_KEY\"] = os.getenv('GOOGLE_API_KEY')"
   ]
  },
  {
   "cell_type": "code",
   "execution_count": null,
   "metadata": {
    "id": "GR1AyxeNjBgG"
   },
   "outputs": [],
   "source": [
    "llm = GoogleGenerativeAI(model=\"gemini-2.0-flash\")"
   ]
  },
  {
   "cell_type": "markdown",
   "metadata": {
    "id": "OX7maWp70KnX"
   },
   "source": [
    "#### Generating products"
   ]
  },
  {
   "cell_type": "code",
   "execution_count": null,
   "metadata": {
    "id": "s4LhXDEKtCBI"
   },
   "outputs": [],
   "source": [
    "def format_product(arr):\n",
    "  data = {\n",
    "    'gtin': [],\n",
    "    'productCode': [],\n",
    "    'size': [],\n",
    "    'color': [],\n",
    "    'label': [],\n",
    "    'category': []\n",
    "  }\n",
    "  for row in arr:\n",
    "    splitted_data = row.split(',')\n",
    "    if len(splitted_data) != 6: continue\n",
    "    i = 0\n",
    "    for key in data.keys():\n",
    "      data[key].append(splitted_data[i])\n",
    "      i+=1\n",
    "  return pd.DataFrame(data)\n"
   ]
  },
  {
   "cell_type": "code",
   "execution_count": null,
   "metadata": {
    "id": "VFd1dR6imtGj"
   },
   "outputs": [],
   "source": [
    "def generate_products(df, n = 200, batch_size=50):\n",
    "  for i in range(n//batch_size + 1):\n",
    "    with pd.option_context('display.max_rows', None, 'display.max_columns', None):\n",
    "      previous_result = df.to_string()\n",
    "    response = llm.invoke(f'''\n",
    "Generate a list of {batch_size} unique clothing products, each represented as a row with the following structure: gtin, productCode, size, color, label, category\n",
    "\n",
    "* **gtin:** A unique 13-digit numeric identifier.\n",
    "* **productCode:** A short alphanumeric code (e.g., CLOTH-001).\n",
    "* **size:** One of the following: XS, S, M, L, XL.\n",
    "* **color:** A common color name (e.g., Red, Blue, Black).\n",
    "* **label:** A detailed, descriptive name of the clothing product.\n",
    "* **category:** Select the category which it belongs\n",
    "\n",
    "Categorize each product into one of these categories: {distribution_by_cat.category.unique()}.\n",
    "\n",
    "Consider the geographical context of these countries: {distribution_by_cat.country.unique()}. However, do not include the country name in the product label.\n",
    "\n",
    "The output should be formatted as a list of rows, with each row representing a product. Separate each product with a newline character (`\\n`).\n",
    "\n",
    "Ensure that the generated products are entirely new and do not overlap with any previously generated products, which are listed below:\n",
    "\n",
    "{previous_result}\n",
    "\n",
    "Output only the generated product data, formatted as described.\n",
    "    ''')\n",
    "    arr = response.split('\\n')\n",
    "\n",
    "    auxiliar_df = format_product(arr)\n",
    "\n",
    "    df = pd.concat([df, auxiliar_df], ignore_index=True)\n",
    "    time.sleep(2) # google API request about 1 minute between queries in the free tier\n",
    "  return df"
   ]
  },
  {
   "cell_type": "code",
   "execution_count": null,
   "metadata": {
    "colab": {
     "base_uri": "https://localhost:8080/",
     "height": 206
    },
    "id": "9-5NRzWXrGoB",
    "outputId": "5c01cf92-ba37-4e0f-eda5-b601f5d29407"
   },
   "outputs": [],
   "source": [
    "products = format_product(['8762109876543,ACC-007,XL,Gold,Chain Necklace','Accessories']) # example\n",
    "products = generate_products(products)\n",
    "products.sample(5)"
   ]
  },
  {
   "cell_type": "code",
   "execution_count": null,
   "metadata": {
    "id": "0veP16uTxtXu"
   },
   "outputs": [],
   "source": [
    "utils.save_data(products, 'products.csv', '../../data')"
   ]
  }
 ],
 "metadata": {
  "colab": {
   "collapsed_sections": [
    "7poInitUbvAa"
   ],
   "provenance": []
  },
  "kernelspec": {
   "display_name": "Python 3 (ipykernel)",
   "language": "python",
   "name": "python3"
  },
  "language_info": {
   "codemirror_mode": {
    "name": "ipython",
    "version": 3
   },
   "file_extension": ".py",
   "mimetype": "text/x-python",
   "name": "python",
   "nbconvert_exporter": "python",
   "pygments_lexer": "ipython3",
   "version": "3.12.3"
  }
 },
 "nbformat": 4,
 "nbformat_minor": 4
}
