{
 "cells": [
  {
   "cell_type": "markdown",
   "id": "16ae9e75-1fb4-408e-9b21-0f2a342d97e0",
   "metadata": {},
   "source": [
    "# Generating sales and soh records in a stream"
   ]
  },
  {
   "cell_type": "markdown",
   "id": "cdeebfd4-43ed-4cc3-bdda-458da4050f14",
   "metadata": {},
   "source": [
    "The notebook's purpose is to generate data in a stream process, simulating the process of getting data from endpoints.\n",
    "\n",
    "In this notebook have a copy of function from the notebook \"generating_batch_sales\"\n",
    "\n",
    "Requirements: \n",
    "1. install local kafka follor this [tutorial](https://kafka.apache.org/quickstart)\n",
    "2. run the cells in order"
   ]
  },
  {
   "cell_type": "code",
   "execution_count": 1,
   "id": "26144363-596a-4998-9bda-7a70e3b19ae5",
   "metadata": {},
   "outputs": [
    {
     "name": "stdout",
     "output_type": "stream",
     "text": [
      "Defaulting to user installation because normal site-packages is not writeable\n",
      "Requirement already satisfied: confluent-kafka in /home/alex/.local/lib/python3.12/site-packages (2.8.2)\n"
     ]
    }
   ],
   "source": [
    "!pip install confluent-kafka --break-system-packages"
   ]
  },
  {
   "cell_type": "code",
   "execution_count": 2,
   "id": "ab6011a7-32d6-457e-8265-ba3d5dd39c58",
   "metadata": {},
   "outputs": [],
   "source": [
    "from confluent_kafka import Producer, KafkaException\n",
    "from confluent_kafka.admin import AdminClient, NewTopic\n",
    "from json import dumps\n",
    "from datetime import timedelta\n",
    "\n",
    "import socket\n",
    "import pandas as pd\n",
    "import time\n",
    "import datetime\n",
    "import random\n",
    "from dotenv import load_dotenv\n",
    "import os\n",
    "\n",
    "import sys\n",
    "sys.path.append('../../libraries')\n",
    "import utils"
   ]
  },
  {
   "cell_type": "code",
   "execution_count": 3,
   "id": "ff265990-29dc-4888-aa00-5f6a8bfe285d",
   "metadata": {},
   "outputs": [
    {
     "data": {
      "text/plain": [
       "True"
      ]
     },
     "execution_count": 3,
     "metadata": {},
     "output_type": "execute_result"
    }
   ],
   "source": [
    "load_dotenv()"
   ]
  },
  {
   "cell_type": "markdown",
   "id": "ef54147d-44b7-4a06-b5db-d5ecb24cc969",
   "metadata": {},
   "source": [
    "### Configuring kafka topics"
   ]
  },
  {
   "cell_type": "markdown",
   "id": "6a4ae3fa-4863-4437-9da9-efd3126de493",
   "metadata": {},
   "source": [
    "Creating topics `sales_topic` and `soh_topic` to simulate send the data from producers"
   ]
  },
  {
   "cell_type": "code",
   "execution_count": 4,
   "id": "bebb4ba2-3423-4e19-807a-4bcc90281a4c",
   "metadata": {},
   "outputs": [
    {
     "name": "stderr",
     "output_type": "stream",
     "text": [
      "%3|1744149910.433|FAIL|rdkafka#producer-1| [thrd:localhost:9092/bootstrap]: localhost:9092/bootstrap: Connect to ipv4#127.0.0.1:9092 failed: Connection refused (after 0ms in state CONNECT)\n",
      "%3|1744149911.433|FAIL|rdkafka#producer-1| [thrd:localhost:9092/bootstrap]: localhost:9092/bootstrap: Connect to ipv4#127.0.0.1:9092 failed: Connection refused (after 0ms in state CONNECT, 1 identical error(s) suppressed)\n"
     ]
    },
    {
     "name": "stdout",
     "output_type": "stream",
     "text": [
      "Error creating topic: KafkaError{code=_TRANSPORT,val=-195,str=\"Failed to get metadata: Local: Broker transport failure\"}\n",
      "Error creating topic: KafkaError{code=_TRANSPORT,val=-195,str=\"Failed to get metadata: Local: Broker transport failure\"}\n"
     ]
    }
   ],
   "source": [
    "admin_client = AdminClient({\n",
    "    'bootstrap.servers': os.getenv('KAFKA_SERVER')\n",
    "})\n",
    "\n",
    "topic_config = {\n",
    "    'partitions': 3,  \n",
    "    'replication_factor': 1,\n",
    "    'config': {\n",
    "        'retention.bytes': '10485760',  # 10 MB retention size\n",
    "        'retention.ms': '86400000', # 1 day retention time\n",
    "    }\n",
    "}\n",
    "for topic in ['sales_topic', 'soh_topic']:\n",
    "    try:\n",
    "        metadata = admin_client.list_topics(timeout=10)\n",
    "        topic_creation_result = admin_client.create_topics(\n",
    "            [NewTopic(\n",
    "                topic, \n",
    "                num_partitions=topic_config['partitions'], \n",
    "                replication_factor=topic_config['replication_factor'], \n",
    "                config=topic_config['config']\n",
    "            )]\n",
    "        )\n",
    "\n",
    "        topic_creation_result[topic].result()\n",
    "\n",
    "        print(\"Topic created successfully.\")\n",
    "    except KafkaException as e:\n",
    "        print(f\"Error creating topic: {e}\")\n"
   ]
  },
  {
   "cell_type": "markdown",
   "id": "6fc376f7-4c8c-47c8-addf-1d2aeb0dc0cd",
   "metadata": {},
   "source": [
    "### Simulate sales and replenishment"
   ]
  },
  {
   "cell_type": "markdown",
   "id": "34f60f5e-0f28-4e65-9538-da7464357443",
   "metadata": {},
   "source": [
    "In this section as in the batch generation of sales, it simulates the process of sales in all stores."
   ]
  },
  {
   "cell_type": "code",
   "execution_count": 5,
   "id": "418cb263-3219-4ee8-92e7-090903aad8ba",
   "metadata": {},
   "outputs": [],
   "source": [
    "def get_sales_consumption_weight(sales_consumption_df, country_code, season):\n",
    "    \"\"\"\n",
    "    Retrieves the sales consumption weight for a country and season.\n",
    "    \n",
    "    Parameters: \n",
    "    sales_consumption_df (pandas.DataFrame): Distribution of customer's behavior based on season of the year\n",
    "    country_code (str): Code of a country.\n",
    "    season (str): Current season of the year\n",
    "\n",
    "    Returns: \n",
    "    (float) Customer behavior in the specified country in the current season\n",
    "    \"\"\"\n",
    "    weight_rows = sales_consumption_df[sales_consumption_df['country'].str.upper() == country_code]\n",
    "    return weight_rows[season].values[0] if not weight_rows.empty else 1.0"
   ]
  },
  {
   "cell_type": "code",
   "execution_count": 6,
   "id": "896b4e04-a20d-46ea-b086-bdf9730a9dfa",
   "metadata": {},
   "outputs": [],
   "source": [
    "def get_current_season(current_date):\n",
    "    \"\"\"\n",
    "    Determines the current season of the year based on the date.\n",
    "\n",
    "    Parameter: \n",
    "    current_date(datetime): A date using datetime library\n",
    "\n",
    "    Returns: \n",
    "    (str) The season on which the current date falls.\n",
    "    \"\"\"\n",
    "    \n",
    "    day = current_date.timetuple().tm_yday\n",
    "    if 80 <= day <= 172: return \"Spring\"\n",
    "    elif 173 <= day <= 266: return \"Summer\"\n",
    "    elif 267 <= day <= 355: return \"Fall\"\n",
    "    return \"Winter\""
   ]
  },
  {
   "cell_type": "code",
   "execution_count": 7,
   "id": "56bda6d2-f66a-4ed2-be6d-b1e2f5f2d9bf",
   "metadata": {},
   "outputs": [],
   "source": [
    "def generate_sales_quantity(sales_consumption_weight):\n",
    "    \"\"\"\n",
    "    Generates the quantity of sales for a day.\n",
    "\n",
    "    Parameter: \n",
    "    sales_consumption_weight(float): A probability of customer' behavior to buy items\n",
    "\n",
    "    Return: \n",
    "    (int) The number of sales quantity\n",
    "    \"\"\"\n",
    "    return max(0, int(random.gauss(50 * sales_consumption_weight, 10)))"
   ]
  },
  {
   "cell_type": "code",
   "execution_count": 8,
   "id": "cf43eff1-da0a-4b89-aa9e-888e157d9de0",
   "metadata": {},
   "outputs": [],
   "source": [
    "def select_product_from_category(products_df, category, available_products):\n",
    "    \"\"\"\n",
    "    Selects a product from a category, considering available products.\n",
    "    \n",
    "    Parameters:\n",
    "    products_df (pandas.DataFrame): Current products offered \n",
    "    category (str): A category in which the products classify\n",
    "    available_products (list): A list of the products provided in the current store\n",
    "\n",
    "    Return: \n",
    "    (int) index of a product - simulates the customer behavior\n",
    "    \"\"\"\n",
    "    category_products = products_df[\n",
    "        (products_df['category'].str.contains(category, case=False)) & \n",
    "        (products_df['productCode'].isin(available_products))\n",
    "    ]\n",
    "    return random.choice(category_products.index) if not category_products.empty else None"
   ]
  },
  {
   "cell_type": "code",
   "execution_count": 9,
   "id": "5f52d469-a424-4995-9fb4-13872e51bf99",
   "metadata": {},
   "outputs": [],
   "source": [
    "def generate_date_format(date):\n",
    "    \"\"\"\n",
    "    Generate a date format\n",
    "\n",
    "    Parameter\n",
    "    date (datetime): A date\n",
    "\n",
    "    Return:\n",
    "    (str) Format a date into one selected \n",
    "    \"\"\"\n",
    "    format_ = random.choice([\n",
    "        \"%Y-%m-%d\",      # 2023-12-31\n",
    "        \"%d/%m/%Y\",      # 31/12/2023\n",
    "        \"%m-%d-%Y\",      # 12-31-2023\n",
    "        \"%B %d, %Y\",     # December 31, 2023\n",
    "    ])\n",
    "    return date.strftime(format_)"
   ]
  },
  {
   "cell_type": "markdown",
   "id": "1da87e87-bcee-4bee-8640-6dce1ac9c467",
   "metadata": {},
   "source": [
    "This functions vary with the batch notebook, them send the data to a specific topic"
   ]
  },
  {
   "cell_type": "code",
   "execution_count": 10,
   "id": "a0b62f0b-5b2b-4bfe-a770-fb0f5439afa5",
   "metadata": {},
   "outputs": [],
   "source": [
    "def record_sale(producer, current_date, store, sku, quantity):\n",
    "    \"\"\"\n",
    "    Records a sale with potential null values and more noise.\n",
    "    \n",
    "    Parameters:\n",
    "    producer (confluent-kafka.Producer): Producer object of confluent-kafka to send data to a Kafka topic\n",
    "    current_date (datetime): Date of the sale occurred\n",
    "    store (str): site_code of the store based on its unique identifier\n",
    "    sku (str): unique code of the product\n",
    "    quantity (int): quantity of the selected product \n",
    "    \"\"\"\n",
    "    sale_record = [sku, quantity, store, generate_date_format(current_date)]\n",
    "    cols = ['sku', 'quantity', random.choice(['store', 'site_code']), 'date']\n",
    "    \n",
    "    if random.random() < 0.25:\n",
    "        sale_record[2] = randomize_case(sale_record[2])\n",
    "\n",
    "    if random.random() < 0.1: \n",
    "        sale_record[1] *= -1\n",
    "\n",
    "    if random.random() < 0.1:\n",
    "        sale_record[random.randint(0, 3)] = None\n",
    "    \n",
    "    producer.produce(\n",
    "        topic='sales_topic', \n",
    "        key='sales', \n",
    "        value=dumps(dict(zip(cols, sale_record)))\n",
    "    )\n",
    "    time.sleep(random.random()*3)\n",
    "\n",
    "\n",
    "def record_replenishment(producer, current_date, store, sku, quantity):\n",
    "    \"\"\"\n",
    "    Records a soh row with potential null values and more noise.\n",
    "    \n",
    "    Parameters: \n",
    "    producer (confluent-kafka.Producer): Producer object of confluent-kafka to send data to a Kafka topic\n",
    "    current_date (datetime): Date of the replenishment\n",
    "    store (str): site_code of the store based on its identifier\n",
    "    sku (str): unique code of the product\n",
    "    quantity (int): quantity of replenishment for the selected product \n",
    "    \"\"\"\n",
    "    soh_record = [store, sku, quantity, generate_date_format(current_date)]\n",
    "    cols = [random.choice(['site_code', 'store']), 'sku', 'quantity', 'date']\n",
    "    \n",
    "    if random.random() < 0.25:\n",
    "        soh_record[0] = randomize_case(soh_record[0])\n",
    "\n",
    "    if random.random() < 0.1: \n",
    "        soh_record[2] *= -1\n",
    "\n",
    "    if random.random() < 0.1: \n",
    "        soh_record[random.randint(0, 3)] = None\n",
    "    \n",
    "    producer.produce(\n",
    "        topic='soh_topic', \n",
    "        key='soh', \n",
    "        value=dumps(dict(zip(cols, soh_record)))\n",
    "    )\n",
    "    time.sleep(random.random()*3)\n",
    "\n",
    "\n",
    "def randomize_case(store_code):\n",
    "    \"\"\"\n",
    "    Randomly changes the case of the store code.\n",
    "    \n",
    "    Parameters:\n",
    "    store_code (str): The store code to modify.\n",
    "    \n",
    "    Returns:\n",
    "    (str) The store code with random case changes.\n",
    "    \"\"\"\n",
    "    return ''.join(random.choice([char.upper(), char.lower()]) for char in store_code)\n"
   ]
  },
  {
   "cell_type": "code",
   "execution_count": 11,
   "id": "6587f744-4c7a-4190-9b1c-e3072164423b",
   "metadata": {},
   "outputs": [],
   "source": [
    "def simulate_sales(products_df, weights_df, inventory,\n",
    "                          sales_consumption_df, site_codes, current_date):\n",
    "    \"\"\"\n",
    "    Generate random sales of the current date\n",
    "\n",
    "    Parameters:\n",
    "    products_df (pandas.DataFrame): Dataframe of products offered in all locations\n",
    "    weights_df (pandas.DataFrame): Dataframe of distributions of customer's behavior \n",
    "    inventory (pandas.DataFrame): Dataframe of actual inventory in all locations for all products available\n",
    "    site_codes (list): list of stores in all countries\n",
    "    current_date (datetime): The date to simulate\n",
    "    \"\"\"\n",
    "    config = {\n",
    "        'client.id': os.getenv('KAFKA_USER', socket.gethostname()), \n",
    "        'bootstrap.servers': os.getenv('KAFKA_SERVER'),\n",
    "        'retries': 3\n",
    "    }\n",
    "    producer = Producer(config)\n",
    "    for store in site_codes:\n",
    "        country_code = store[:3].upper()\n",
    "        if country_code[-1] == '0': country_code = country_code[:2]\n",
    "        country = weights_df[weights_df['country'].str.upper().str.startswith(country_code)].iloc[0].country\n",
    "\n",
    "        season = get_current_season(current_date)\n",
    "        sales_consumption_weight = get_sales_consumption_weight(sales_consumption_df, country_code, season)\n",
    "        num_sales = generate_sales_quantity(sales_consumption_weight)\n",
    "\n",
    "        country_weights = weights_df[weights_df['country'] == country]\n",
    "        categories = country_weights['category'].tolist()\n",
    "        weights = country_weights['consumption'].tolist()\n",
    "\n",
    "        available_products = inventory.loc[store].index.tolist()\n",
    "\n",
    "        for _ in range(num_sales):\n",
    "            chosen_category = random.choices(categories, weights=weights, k=1)[0]\n",
    "            chosen_product_index = select_product_from_category(products_df, chosen_category, available_products)\n",
    "\n",
    "            if chosen_product_index is not None:\n",
    "                product = products_df.loc[chosen_product_index]\n",
    "                sku = product['productCode']\n",
    "\n",
    "                try:\n",
    "                    current_stock = inventory.loc[(store, sku), 'quantity']\n",
    "                    if current_stock > 0:\n",
    "                        quantity = min(current_stock, random.randint(1, 5))\n",
    "                        inventory.loc[(store, sku), 'quantity'] -= quantity\n",
    "                        record_sale(producer, current_date, store, sku, quantity)\n",
    "\n",
    "                        current_stock = inventory.loc[(store, sku), 'quantity']\n",
    "                        if current_stock < 20:\n",
    "                            replenishment_quantity = 200\n",
    "                            inventory.loc[(store, sku), 'quantity'] += replenishment_quantity\n",
    "                            record_replenishment(producer, current_date, store, sku, replenishment_quantity)\n",
    "                except KeyError:\n",
    "                    print(f\"KeyError: {(store, sku)}\")\n",
    "                    return\n",
    "    producer.flush()\n"
   ]
  },
  {
   "cell_type": "code",
   "execution_count": 12,
   "id": "d11fa55e-a05b-4702-8380-f98de1742ad7",
   "metadata": {},
   "outputs": [],
   "source": [
    "def simulate_daily_sales(products_df, weights_df, initial_inventory_df,\n",
    "                          sales_consumption_df, start_date, end_date):\n",
    "    \"\"\"\n",
    "    Simulates daily sales and inventory management.\n",
    "\n",
    "    Params:\n",
    "    products_df (pandas.DataFrame): list of available products\n",
    "    weights_df (pandas.DataFrame): probability for each category\n",
    "    initial_inventory_df (pandas.DataFrame): available stocks\n",
    "    sales_consumption_df (pandas.DataFrame): relation between sales on each store\n",
    "    start_date (datetime): initial date\n",
    "    end_date (datetime): end_date\n",
    "    \"\"\"\n",
    "    current_date = start_date\n",
    "\n",
    "    sales_data = []\n",
    "    site_codes = initial_inventory_df.site_code.unique()\n",
    "    inventory = initial_inventory_df.set_index(['site_code', 'sku'])\n",
    "\n",
    "    while current_date <= end_date:\n",
    "        simulate_sales(products_df, weights_df, inventory, sales_consumption_df, site_codes, current_date)\n",
    "        \n",
    "        current_date += timedelta(days=1)"
   ]
  },
  {
   "cell_type": "markdown",
   "id": "8d50d817-6f94-4064-be57-5af4942bf693",
   "metadata": {},
   "source": [
    "#### Loading all data for the simulation"
   ]
  },
  {
   "cell_type": "code",
   "execution_count": 13,
   "id": "82ef293e-57cf-404e-b746-9b04e6e7d622",
   "metadata": {},
   "outputs": [],
   "source": [
    "soh = utils.load_data('soh.csv', '../../data')\n",
    "products = utils.load_data('products.csv', '../../data')\n",
    "distribution_by_cat = utils.load_data('distribution_by_category.csv', '../../data')\n",
    "distribution_by_sales = utils.load_data('distribution_of_sales_by_country.csv', '../../data')"
   ]
  },
  {
   "cell_type": "markdown",
   "id": "ffb74e46-e0e2-4460-aaf2-96cd1986ea0e",
   "metadata": {},
   "source": [
    "Cleaning the soh data and getting the last state of all products in all stores"
   ]
  },
  {
   "cell_type": "code",
   "execution_count": 14,
   "id": "fa251f04-4834-4082-84d6-7874a2c9527d",
   "metadata": {},
   "outputs": [],
   "source": [
    "soh = soh.dropna()\n",
    "\n",
    "soh['date'] = pd.to_datetime(soh['date'], format='mixed')\n",
    "soh = soh.sort_values('date', ascending=False)\n",
    "soh = soh.drop_duplicates(subset=['site_code', 'sku'], keep='first')\n",
    "soh.quantity /= 10"
   ]
  },
  {
   "cell_type": "markdown",
   "id": "d5873749-f728-42c3-9f00-b135bd2cbdd4",
   "metadata": {},
   "source": [
    "Simulating the complete process from January 2, 2025 to today."
   ]
  },
  {
   "cell_type": "code",
   "execution_count": 15,
   "id": "f1051a53-b791-4034-8c3e-540de63fe20a",
   "metadata": {},
   "outputs": [
    {
     "name": "stderr",
     "output_type": "stream",
     "text": [
      "%3|1744149937.415|FAIL|rdkafka#producer-2| [thrd:localhost:9092/bootstrap]: localhost:9092/bootstrap: Connect to ipv4#127.0.0.1:9092 failed: Connection refused (after 0ms in state CONNECT)\n",
      "%3|1744149938.409|FAIL|rdkafka#producer-2| [thrd:localhost:9092/bootstrap]: localhost:9092/bootstrap: Connect to ipv4#127.0.0.1:9092 failed: Connection refused (after 0ms in state CONNECT, 1 identical error(s) suppressed)\n",
      "%3|1744149941.436|FAIL|rdkafka#producer-1| [thrd:localhost:9092/bootstrap]: localhost:9092/bootstrap: Connect to ipv4#127.0.0.1:9092 failed: Connection refused (after 0ms in state CONNECT, 30 identical error(s) suppressed)\n"
     ]
    },
    {
     "name": "stdout",
     "output_type": "stream",
     "text": [
      "Keyboard interrupted\n"
     ]
    },
    {
     "name": "stderr",
     "output_type": "stream",
     "text": [
      "%4|1744149943.765|TERMINATE|rdkafka#producer-2| [thrd:app]: Producer terminating with 4 messages (322 bytes) still in queue or transit: use flush() to wait for outstanding message delivery\n"
     ]
    }
   ],
   "source": [
    "try:\n",
    "    simulate_daily_sales(\n",
    "        products, \n",
    "        distribution_by_cat, \n",
    "        soh, \n",
    "        distribution_by_sales, \n",
    "        datetime.date(2025, 1, 2), \n",
    "        datetime.datetime.now().date()\n",
    "    )\n",
    "except KeyboardInterrupt:\n",
    "    print('Keyboard interrupted')"
   ]
  }
 ],
 "metadata": {
  "kernelspec": {
   "display_name": "Python 3 (ipykernel)",
   "language": "python",
   "name": "python3"
  },
  "language_info": {
   "codemirror_mode": {
    "name": "ipython",
    "version": 3
   },
   "file_extension": ".py",
   "mimetype": "text/x-python",
   "name": "python",
   "nbconvert_exporter": "python",
   "pygments_lexer": "ipython3",
   "version": "3.12.3"
  }
 },
 "nbformat": 4,
 "nbformat_minor": 5
}
